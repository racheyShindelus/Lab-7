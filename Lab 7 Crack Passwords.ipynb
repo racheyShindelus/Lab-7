{
 "cells": [
  {
   "cell_type": "markdown",
   "metadata": {},
   "source": [
    "Before you turn this problem in, make sure everything runs as expected. First, **restart the kernel** (in the menubar, select Kernel$\\rightarrow$Restart) and then **run all cells** (in the menubar, select Cell$\\rightarrow$Run All)."
   ]
  },
  {
   "cell_type": "markdown",
   "metadata": {},
   "source": [
    "---"
   ]
  },
  {
   "cell_type": "markdown",
   "metadata": {},
   "source": [
    "# Lab 6: Cracking Passwords\n",
    "This assignment will give you a taste of what professional (and amateur) password crackers do.\n",
    "\n",
    "Since there's no way to derive the original password from a hash, the only practical way to crack a password is to try a bunch of candidate passwords, hash them individually, and compare the hashes. If a match is found, it's likely you've found the original password. However, brute-force probably isn't the best way to find passwords. Instead, professionals use a list of known, common passwords. One such list is called **rockyou.txt** containing 14 million passwords from breached websites. A Google search will bring up a link where you can download the file.\n",
    "\n",
    "I've provided the first 300 passwords from the rockyou.txt file in an array called `rockyou`. Each password is stored as a byte string.\n",
    "\n",
    "Run the cell below to set up the `rockyou` array."
   ]
  },
  {
   "cell_type": "code",
   "execution_count": null,
   "metadata": {},
   "outputs": [],
   "source": [
    "from hashlib import md5\n",
    "from csci26 import *\n",
    "\n",
    "# The first 300 entries from the rockyou.txt file.\n",
    "# This is a list of byte strings. You will be using this list\n",
    "# in the problems below.\n",
    "rockyou = [ bytes(i, 'utf-8') for i in\n",
    "    \"\"\"123456 12345 123456789 password iloveyou princess 1234567\n",
    "    rockyou 12345678 abc123 nicole daniel babygirl monkey lovely jessica\n",
    "    654321 michael ashley qwerty 111111 iloveu 000000 michelle tigger\n",
    "    sunshine chocolate password1 soccer anthony friends butterfly purple\n",
    "    angel jordan liverpool justin loveme 123123 football secret andrea\n",
    "    carlos jennifer joshua bubbles 1234567890 superman hannah amanda\n",
    "    loveyou pretty basketball andrew angels tweety flower playboy hello\n",
    "    elizabeth hottie tinkerbell charlie samantha barbie chelsea lovers\n",
    "    teamo jasmine brandon 666666 shadow melissa eminem matthew robert\n",
    "    danielle forever family jonathan 987654321 computer whatever dragon\n",
    "    vanessa cookie naruto summer sweety spongebob joseph junior softball\n",
    "    taylor yellow daniela lauren mickey princesa alexandra alexis jesus\n",
    "    estrella miguel william thomas beautiful mylove angela poohbear\n",
    "    patrick iloveme sakura adrian alexander destiny christian 121212\n",
    "    sayang america dancer monica richard 112233 princess1 555555 diamond\n",
    "    carolina steven rangers louise orange 789456 999999 shorty 11111\n",
    "    nathan snoopy gabriel hunter cherry killer sandra alejandro buster\n",
    "    george brittany alejandra patricia rachel tequiero 7777777 cheese\n",
    "    159753 arsenal dolphin antonio heather david ginger stephanie peanut\n",
    "    blink182 sweetie 222222 beauty 987654 victoria honey 00000 fernando\n",
    "    pokemon maggie corazon chicken pepper cristina rainbow kisses manuel\n",
    "    myspace rebelde angel1 ricardo babygurl heaven 55555 baseball martin\n",
    "    greenday november alyssa madison mother 123321 123abc mahalkita batman\n",
    "    september december morgan mariposa maria gabriela iloveyou2 bailey\n",
    "    jeremy pamela kimberly gemini shannon pictures sophie jessie\n",
    "    hellokitty claudia babygirl1 angelica austin mahalko victor horses\n",
    "    tiffany mariana eduardo andres courtney kissme harley ronaldo\n",
    "    iloveyou1 precious october inuyasha peaches veronica chris 888888\n",
    "    adriana cutie james banana prince friend jesus1 crystal celtic zxcvbnm\n",
    "    edward oliver diana samsung freedom angelo kenneth master scooby\n",
    "    carmen 456789 sebastian rebecca jackie spiderman christopher karina\n",
    "    johnny hotmail 0123456789 school barcelona august orlando samuel\n",
    "    cameron slipknot cutiepie monkey1 50cent bonita kevin maganda babyboy\n",
    "    casper brenda adidas kitten karen mustang isabel natalie cuteako\n",
    "    javier 789456123 123654 sarah bowwow portugal laura 777777 marvin\"\"\".split() ]"
   ]
  },
  {
   "cell_type": "code",
   "execution_count": null,
   "metadata": {},
   "outputs": [],
   "source": [
    "# If you wish, you can inspect the contents of the rockyou array\n",
    "\n",
    "rockyou"
   ]
  },
  {
   "cell_type": "markdown",
   "metadata": {},
   "source": [
    "## Problem 1\n",
    "I've chosen three words from the rockyou array and hashed them into the variables `hash1`, `hash2`, and `hash3`. Can you figure out what the original words are?\n",
    "\n",
    "To do this problem, write a function called `crackOne`. It takes a hash as a string (*target*) and returns the matching word. The function should loop through the *rockyou* array, hashing each word in turn. If the hash matches the target, return the plaintext word. For example, `crackOne(hash0)` should return `b'computer'`.\n",
    "\n",
    "Once you've cracked the three hashes, assign the solutions to the `word1`, `word2`, and `word3` variables, respectively."
   ]
  },
  {
   "cell_type": "code",
   "execution_count": null,
   "metadata": {},
   "outputs": [],
   "source": [
    "# Hashes of a few of the passwords.\n",
    "# Can you figure out which ones they are?\n",
    "hash0 = 'df53ca268240ca76670c8566ee54568a'\n",
    "hash1 = 'fe546279a62683de8ca334b673420696'\n",
    "hash2 = '5ebe2294ecd0e0f08eab7690d2a6ee69'\n",
    "hash3 = 'c8837b23ff8aaa8a2dde915473ce0991'"
   ]
  },
  {
   "cell_type": "code",
   "execution_count": null,
   "metadata": {},
   "outputs": [],
   "source": [
    "# Write your crackOne function here"
   ]
  },
  {
   "cell_type": "code",
   "execution_count": null,
   "metadata": {
    "deletable": false,
    "nbgrader": {
     "cell_type": "code",
     "checksum": "80bbba85f107e659b62d3bac5a2a702f",
     "grade": false,
     "grade_id": "words",
     "locked": false,
     "schema_version": 3,
     "solution": true,
     "task": false
    }
   },
   "outputs": [],
   "source": []
  },
  {
   "cell_type": "code",
   "execution_count": null,
   "metadata": {
    "deletable": false,
    "editable": false,
    "nbgrader": {
     "cell_type": "code",
     "checksum": "c4f331595d26085b49b445753d718453",
     "grade": true,
     "grade_id": "words_test",
     "locked": true,
     "points": 2,
     "schema_version": 3,
     "solution": false,
     "task": false
    }
   },
   "outputs": [],
   "source": [
    "# Run this cell to check your solutions.\n",
    "# Some of the answers here have been obfuscated.\n",
    "from functools import reduce\n",
    "import operator\n",
    "assert crackOne(hash0) == b'computer'\n",
    "assert crackOne('b0fc08a18d29407428cbac5d2e5cc682') == b'scooby'\n",
    "assert crackOne('36cdf8b887a5cffc78dcd5c08991b993') == b'dolphin'\n",
    "assert reduce(operator.mul, word1) % 0xffffe == 411404\n",
    "assert reduce(operator.mul, word2) % 0xffffe == 171234\n",
    "assert reduce(operator.mul, word3) % 0xffffe == 284214"
   ]
  },
  {
   "cell_type": "markdown",
   "metadata": {},
   "source": [
    "## Problem 2\n",
    "The arrays `rand_hashes1` and `rand_hashes2` each contain 10 hashes sampled randomly from the *rockyou* list.\n",
    "\n",
    "The `hashes3` list contains four hashes of words taken from the *rockyou* list."
   ]
  },
  {
   "cell_type": "code",
   "execution_count": null,
   "metadata": {},
   "outputs": [],
   "source": [
    "# Every time you run this cell, 10 words will be randomly selected\n",
    "# from the rockyou list, each one will be hashed, and placed into\n",
    "# these lists.\n",
    "# There are two sets of random hashes here.\n",
    "# There is no need to modify these.\n",
    "from random import sample\n",
    "rand_hashes1 = [ md5(p).hexdigest() for p in sample(rockyou, 10) ]\n",
    "rand_hashes2 = [ md5(p).hexdigest() for p in sample(rockyou, 10) ]\n",
    "\n",
    "# Here are some more hashes to crack\n",
    "hashes3 = ['ec0e2603172c73a8b644bb9456c1ff6e',\n",
    "           '8621ffdbc5698829397d97767ac13db3',\n",
    "           'dea56e47f1c62c30b83b70eb281a6c39',\n",
    "           '02c75fb22c75b23dc963c7eb91a062cc']\n",
    "\n",
    "# If you wish, you can inspect the contents of these lists. Just\n",
    "# remove the comment symbol from one of them.\n",
    "#rand_hashes1\n",
    "#rand_hashes2"
   ]
  },
  {
   "cell_type": "markdown",
   "metadata": {},
   "source": [
    "Write a function called `crackList` that takes a list of hashes and returns a list of cracked passwords. Each of the cracked passwords should be a byte string.\n",
    "\n",
    "*Hint:* you already have a function that will crack a single hash. Map it onto a list of hashes."
   ]
  },
  {
   "cell_type": "code",
   "execution_count": null,
   "metadata": {
    "deletable": false,
    "nbgrader": {
     "cell_type": "code",
     "checksum": "ed434b1b5ff979c06e06c6ca535862d3",
     "grade": false,
     "grade_id": "crackList",
     "locked": false,
     "schema_version": 3,
     "solution": true,
     "task": false
    }
   },
   "outputs": [],
   "source": [
    "# Write your crackList function here\n",
    "def crackList(hashes):\n",
    "    return None\n"
   ]
  },
  {
   "cell_type": "code",
   "execution_count": null,
   "metadata": {},
   "outputs": [],
   "source": [
    "# Try your function\n",
    "crackList(hashes3)"
   ]
  },
  {
   "cell_type": "code",
   "execution_count": null,
   "metadata": {},
   "outputs": [],
   "source": [
    "crackList(rand_hashes1)"
   ]
  },
  {
   "cell_type": "code",
   "execution_count": null,
   "metadata": {},
   "outputs": [],
   "source": [
    "crackList(rand_hashes2)"
   ]
  },
  {
   "cell_type": "code",
   "execution_count": null,
   "metadata": {
    "deletable": false,
    "editable": false,
    "nbgrader": {
     "cell_type": "code",
     "checksum": "dcaf225d316a5507d062e55df5b89fb3",
     "grade": true,
     "grade_id": "crackList_tests",
     "locked": true,
     "points": 2,
     "schema_version": 3,
     "solution": false,
     "task": false
    }
   },
   "outputs": [],
   "source": [
    "# Run this cell to check your function\n",
    "hashList = ['d7af994f1f1ef8b5e3beb9f7fb139f57',\n",
    "          '4d33fd1da665809bea02d5b573739a5f',\n",
    "          '6da89cd09ab7937478a1d47d20938536']\n",
    "assert crackList(hashList) == [b'forever', b'mariposa', b'kitten']"
   ]
  },
  {
   "cell_type": "markdown",
   "metadata": {},
   "source": [
    "## Problem 3\n",
    "The variables `hash4` and `hash5` contain two mystery hashes. I'll give you a hint: they are constructed by taking a word from the `rockyou` list and appending a single digit. For example, `morgan3` or `shadow7`. This is a common thing people to do choose \"good\" passwords. But they are easy to crack because it's such a predictable pattern.\n",
    "\n",
    "Write a function to solve this problem for you. Paste your solutions into the `word4` and `word5` variables, respectively. You can name the function whatever you want; the function itself won't be checked."
   ]
  },
  {
   "cell_type": "code",
   "execution_count": null,
   "metadata": {},
   "outputs": [],
   "source": [
    "hash4 = '610c23407eb63d963c73cdda8703b506'\n",
    "hash5 = '82f1742b8fef8c2379698be495c29c3d'"
   ]
  },
  {
   "cell_type": "code",
   "execution_count": null,
   "metadata": {},
   "outputs": [],
   "source": [
    "# You may need this to help solve the problem\n",
    "digits = [b'0', b'1', b'2', b'3', b'4', b'5', b'6', b'7', b'8', b'9']\n",
    "\n",
    "# Write your function definition here\n"
   ]
  },
  {
   "cell_type": "code",
   "execution_count": null,
   "metadata": {
    "deletable": false,
    "nbgrader": {
     "cell_type": "code",
     "checksum": "9557636a6b9406537d57d994c757df7b",
     "grade": false,
     "grade_id": "word4-5",
     "locked": false,
     "schema_version": 3,
     "solution": true,
     "task": false
    }
   },
   "outputs": [],
   "source": [
    "# Paste your solution here\n",
    "word4 = None\n",
    "word5 = None\n"
   ]
  },
  {
   "cell_type": "code",
   "execution_count": null,
   "metadata": {
    "deletable": false,
    "editable": false,
    "nbgrader": {
     "cell_type": "code",
     "checksum": "fead62150b06eb1e12a2d86c23c40d28",
     "grade": true,
     "grade_id": "word45_test",
     "locked": true,
     "points": 2,
     "schema_version": 3,
     "solution": false,
     "task": false
    }
   },
   "outputs": [],
   "source": [
    "# Run this cell to check your answers\n",
    "from functools import reduce\n",
    "import operator\n",
    "assert reduce(operator.mul, word4) % 0xffffe == 779296\n",
    "assert reduce(operator.mul, word5) % 0xffffe == 974694"
   ]
  }
 ],
 "metadata": {
  "kernelspec": {
   "display_name": "Python 3",
   "language": "python",
   "name": "python3"
  },
  "language_info": {
   "codemirror_mode": {
    "name": "ipython",
    "version": 3
   },
   "file_extension": ".py",
   "mimetype": "text/x-python",
   "name": "python",
   "nbconvert_exporter": "python",
   "pygments_lexer": "ipython3",
   "version": "3.8.5"
  }
 },
 "nbformat": 4,
 "nbformat_minor": 4
}
